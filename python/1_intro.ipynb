{
 "cells": [
  {
   "attachments": {},
   "cell_type": "markdown",
   "metadata": {},
   "source": [
    "https://github.com/facebookresearch/faiss/blob/main/tutorial/python/1-Flat.py"
   ]
  },
  {
   "cell_type": "code",
   "execution_count": 22,
   "metadata": {},
   "outputs": [],
   "source": [
    "import numpy as np"
   ]
  },
  {
   "cell_type": "code",
   "execution_count": 23,
   "metadata": {},
   "outputs": [],
   "source": [
    "d = 64                           # dimension\n",
    "nb = 100000                      # database size\n",
    "nq = 10000                       # nb of queries"
   ]
  },
  {
   "cell_type": "code",
   "execution_count": 24,
   "metadata": {},
   "outputs": [],
   "source": [
    "np.random.seed(1234)             # make reproducible"
   ]
  },
  {
   "cell_type": "code",
   "execution_count": 25,
   "metadata": {},
   "outputs": [
    {
     "data": {
      "text/plain": [
       "(100000, 64)"
      ]
     },
     "execution_count": 25,
     "metadata": {},
     "output_type": "execute_result"
    }
   ],
   "source": [
    "# for database\n",
    "xb = np.random.random((nb, d)).astype('float32')\n",
    "xb.shape"
   ]
  },
  {
   "cell_type": "code",
   "execution_count": 26,
   "metadata": {},
   "outputs": [
    {
     "data": {
      "text/plain": [
       "array([1.91519454e-01, 3.83317441e-01, 7.53425434e-02, ...,\n",
       "       1.00811470e+02, 1.00669464e+02, 1.00855637e+02], dtype=float32)"
      ]
     },
     "execution_count": 26,
     "metadata": {},
     "output_type": "execute_result"
    }
   ],
   "source": [
    "# 모든 데이터베이스 0차원에 \"np.arange(nb) / 1000\" 더하기\n",
    "xb[:, 0] += np.arange(nb) / 1000.\n",
    "xb[:, 0]"
   ]
  },
  {
   "cell_type": "code",
   "execution_count": 27,
   "metadata": {},
   "outputs": [
    {
     "data": {
      "text/plain": [
       "(10000, 64)"
      ]
     },
     "execution_count": 27,
     "metadata": {},
     "output_type": "execute_result"
    }
   ],
   "source": [
    "# 쿼리 데이터베이스 생성\n",
    "xq = np.random.random((nq, d)).astype('float32')\n",
    "xq.shape"
   ]
  },
  {
   "cell_type": "code",
   "execution_count": 28,
   "metadata": {},
   "outputs": [
    {
     "data": {
      "text/plain": [
       "array([ 0.81432974,  0.5844774 ,  0.75040764, ..., 10.96773   ,\n",
       "       10.831193  , 10.078484  ], dtype=float32)"
      ]
     },
     "execution_count": 28,
     "metadata": {},
     "output_type": "execute_result"
    }
   ],
   "source": [
    "xq[:, 0] += np.arange(nq) / 1000.\n",
    "xq[:, 0]"
   ]
  },
  {
   "cell_type": "code",
   "execution_count": 29,
   "metadata": {},
   "outputs": [],
   "source": [
    "import faiss"
   ]
  },
  {
   "cell_type": "markdown",
   "metadata": {},
   "source": [
    "#### What is index and IndexFlatL2?"
   ]
  },
  {
   "cell_type": "code",
   "execution_count": 30,
   "metadata": {},
   "outputs": [],
   "source": [
    "# Faiss에서 index는 고차원 벡터들을 효과적으로 검색하고 관리하기 위한 핵심 데이터 구조입니다\n",
    "# The L2 distance, also known as the Euclidean distance,\n",
    "# 벡터들에 대해서 L2 거리 검색을 수행하는 간단한 버전인 IndexFlatL2를 사용한다\n",
    "\n",
    "# 대부분의 인덱스는 벡터의 분포를 분석하기 위한 훈련 단계를 포함한다\n",
    "# 그런데 indexFlatL2는 훈련 단계가 없다\n",
    "\n",
    "# 인덱스가 생성되고 훈련되면, 주요 두 가지 함수를 사용할 수 있다\n",
    "# - add: 데이터베이스에 벡터 추가\n",
    "# - search: 데이터베이스에서 가장 가까운 벡터 검색\n"
   ]
  },
  {
   "cell_type": "code",
   "execution_count": 31,
   "metadata": {},
   "outputs": [
    {
     "name": "stdout",
     "output_type": "stream",
     "text": [
      "True\n"
     ]
    }
   ],
   "source": [
    "index = faiss.IndexFlatL2(d) # 고정된 차원으로 선언\n",
    "# 훈련 단계가 필요없어서, 훈련이 완료되어서 is_trained가 True가 된다\n",
    "print(index.is_trained)"
   ]
  },
  {
   "cell_type": "markdown",
   "metadata": {},
   "source": [
    "#### Building an index and adding the vectors to it"
   ]
  },
  {
   "cell_type": "code",
   "execution_count": 32,
   "metadata": {},
   "outputs": [
    {
     "name": "stdout",
     "output_type": "stream",
     "text": [
      "100000\n"
     ]
    }
   ],
   "source": [
    "# Add vectors to the index\n",
    "index.add(xb)\n",
    "print(index.ntotal) # d가 아닌 nb가 나옴"
   ]
  },
  {
   "cell_type": "code",
   "execution_count": 46,
   "metadata": {},
   "outputs": [
    {
     "data": {
      "text/plain": [
       "64"
      ]
     },
     "execution_count": 46,
     "metadata": {},
     "output_type": "execute_result"
    }
   ],
   "source": [
    "index.d"
   ]
  },
  {
   "cell_type": "code",
   "execution_count": 48,
   "metadata": {},
   "outputs": [
    {
     "name": "stdout",
     "output_type": "stream",
     "text": [
      "[0.19151945 0.62210876 0.43772775 0.7853586  0.77997583 0.2725926\n",
      " 0.27646425 0.8018722  0.95813936 0.87593263 0.35781726 0.5009951\n",
      " 0.6834629  0.71270204 0.37025076 0.5611962  0.50308317 0.01376845\n",
      " 0.7728266  0.8826412  0.364886   0.6153962  0.07538124 0.368824\n",
      " 0.9331401  0.65137815 0.39720258 0.78873014 0.31683612 0.56809866\n",
      " 0.8691274  0.4361734  0.8021476  0.14376682 0.70426095 0.7045813\n",
      " 0.21879211 0.92486763 0.44214076 0.90931594 0.05980922 0.18428709\n",
      " 0.04735528 0.6748809  0.59462476 0.5333102  0.04332406 0.5614331\n",
      " 0.32966843 0.5029668  0.11189432 0.6071937  0.5659447  0.00676406\n",
      " 0.6174417  0.9121229  0.7905241  0.99208146 0.95880175 0.7919641\n",
      " 0.28525096 0.62491673 0.4780938  0.19567518]\n"
     ]
    }
   ],
   "source": [
    "# 저장된 벡터의 수를 가져온다\n",
    "num_vectors = index.ntotal\n",
    "\n",
    "# reconstruct 함수를 이용해서 출력할 수 있다\n",
    "for i in range(num_vectors):\n",
    "    vec = index.reconstruct(i)\n",
    "    print(vec)\n",
    "    # 샘플 출력\n",
    "    break"
   ]
  },
  {
   "cell_type": "markdown",
   "metadata": {},
   "source": [
    "#### Index Searching"
   ]
  },
  {
   "cell_type": "code",
   "execution_count": null,
   "metadata": {},
   "outputs": [],
   "source": [
    "# L2 거리 기반으로 KNN 검색을 수행한다"
   ]
  },
  {
   "cell_type": "code",
   "execution_count": 51,
   "metadata": {},
   "outputs": [
    {
     "name": "stdout",
     "output_type": "stream",
     "text": [
      "[[0.        7.1751738 7.20763   7.2511625]\n",
      " [0.        6.3235645 6.684581  6.799946 ]\n",
      " [0.        5.7964087 6.391736  7.2815123]\n",
      " [0.        7.2779055 7.5279875 7.662846 ]\n",
      " [0.        6.7638035 7.2951202 7.3688145]]\n"
     ]
    }
   ],
   "source": [
    "# k개의 최근접 이웃을 검색한다\n",
    "k = 4\n",
    "\n",
    "D, I = index.search(xb[:5], k) # sanity check\n",
    "\n",
    "# 쿼리 벡터와 데이터베이스 내 해당 쿼리의 k-최근접 이웃 간의 거리를 포함하고 있다\n",
    "print(D)"
   ]
  },
  {
   "cell_type": "code",
   "execution_count": 53,
   "metadata": {},
   "outputs": [
    {
     "name": "stdout",
     "output_type": "stream",
     "text": [
      "[[  0 393 363  78]\n",
      " [  1 555 277 364]\n",
      " [  2 304 101  13]\n",
      " [  3 173  18 182]\n",
      " [  4 288 370 531]]\n"
     ]
    }
   ],
   "source": [
    "#  각 쿼리 벡터에 대한 k-최근접 이웃의 인덱스(또는 ID)를 포함하고 있습니다.\n",
    "print(I)"
   ]
  },
  {
   "cell_type": "markdown",
   "metadata": {},
   "source": [
    "#### Xq를 이용한 Search"
   ]
  },
  {
   "cell_type": "code",
   "execution_count": 56,
   "metadata": {},
   "outputs": [
    {
     "name": "stdout",
     "output_type": "stream",
     "text": [
      "[[6.815506  6.8894653 7.3956795 7.4290257]\n",
      " [6.6041145 6.679699  6.7209625 6.828678 ]\n",
      " [6.4703865 6.8578644 7.0043755 7.036564 ]\n",
      " [5.573681  6.4075394 7.1395187 7.3555946]\n",
      " [5.409401  6.232216  6.4173393 6.5743675]]\n",
      "[[ 381  207  210  477]\n",
      " [ 526  911  142   72]\n",
      " [ 838  527 1290  425]\n",
      " [ 196  184  164  359]\n",
      " [ 526  377  120  425]]\n"
     ]
    }
   ],
   "source": [
    "D, I = index.search(xq, k) \n",
    "print(D[:5])    \n",
    "print(I[:5])                   "
   ]
  }
 ],
 "metadata": {
  "kernelspec": {
   "display_name": "Python 3.8.17 ('faiss-note')",
   "language": "python",
   "name": "python3"
  },
  "language_info": {
   "codemirror_mode": {
    "name": "ipython",
    "version": 3
   },
   "file_extension": ".py",
   "mimetype": "text/x-python",
   "name": "python",
   "nbconvert_exporter": "python",
   "pygments_lexer": "ipython3",
   "version": "3.8.17"
  },
  "orig_nbformat": 4,
  "vscode": {
   "interpreter": {
    "hash": "abdd69f396977b5acca5239545592dbbf682950c94ed8fda1439241dac83aa8a"
   }
  }
 },
 "nbformat": 4,
 "nbformat_minor": 2
}

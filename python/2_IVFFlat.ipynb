{
 "cells": [
  {
   "cell_type": "markdown",
   "metadata": {},
   "source": [
    "## IVFFlat"
   ]
  },
  {
   "cell_type": "code",
   "execution_count": null,
   "metadata": {},
   "outputs": [],
   "source": [
    "\"\"\"\n",
    "IVFFlat\n",
    "- 역파일 시스템(Inverted File System, IVF)\n",
    "- 벡터 공간을 여러 보로노이 셀로 분할해서, 벡터들을 그룹화하고 저장하는 방식\n",
    "- nlist: 보로노이 셀의 개수\n",
    "- Metric: https://faiss.ai/cpp_api/file/MetricType_8h.html#_CPPv4N5faiss10MetricTypeE\n",
    "- 셀 배치를 위해서 훈련이 필요함\n",
    "- nprobe: 쿼리 시에 몇 개의 셀을 방문할지 결정 (index.nprobe=10) 검색 시간은 양자화에 따른 일정한 값과 함께 probe의 수에 대략 선형적으로 증가\n",
    "- 결론적으로, IndexIVFFlat은 IndexFlatL2에 비해 검색 성능이 향상될 수 있지만, 그 정도의 향상은 여러 요인에 따라 다를 수 있다\n",
    "\"\"\""
   ]
  },
  {
   "cell_type": "markdown",
   "metadata": {},
   "source": [
    "## This is too slow, how can I make it faster?\n",
    "\n",
    "https://github.com/facebookresearch/faiss/wiki/Faster-search"
   ]
  },
  {
   "cell_type": "code",
   "execution_count": null,
   "metadata": {},
   "outputs": [],
   "source": [
    "import numpy as np"
   ]
  },
  {
   "cell_type": "code",
   "execution_count": null,
   "metadata": {},
   "outputs": [],
   "source": [
    "d = 64\n",
    "nb = 100000\n",
    "nq = 10000\n",
    "np.random.seed(1234)"
   ]
  },
  {
   "cell_type": "code",
   "execution_count": null,
   "metadata": {},
   "outputs": [],
   "source": [
    "xb = np.random.random((nb, d)).astype('float32')\n",
    "xb[:, 0] += np.arange(nb) / 1000.\n",
    "xq = np.random.random((nq, d)).astype('float32')\n",
    "xq[:, 0] += np.arange(nq) / 1000."
   ]
  },
  {
   "cell_type": "code",
   "execution_count": null,
   "metadata": {},
   "outputs": [],
   "source": [
    "xb.shape, xq.shape"
   ]
  },
  {
   "cell_type": "code",
   "execution_count": null,
   "metadata": {},
   "outputs": [],
   "source": [
    "import faiss"
   ]
  },
  {
   "cell_type": "code",
   "execution_count": null,
   "metadata": {},
   "outputs": [],
   "source": [
    "nlist = 100 # 보로노이 셀의 개수\n",
    "k = 4\n",
    "quantizer = faiss.IndexFlatL2(d)\n",
    "index = faiss.IndexIVFFlat(quantizer, d, nlist, faiss.METRIC_L2)"
   ]
  },
  {
   "cell_type": "code",
   "execution_count": null,
   "metadata": {},
   "outputs": [],
   "source": [
    "assert not index.is_trained"
   ]
  },
  {
   "cell_type": "code",
   "execution_count": null,
   "metadata": {},
   "outputs": [],
   "source": [
    "# 양자화 구조를 만들기 위해 index를 훈련하기 위한 것\n",
    "index.train(xb)"
   ]
  },
  {
   "cell_type": "code",
   "execution_count": null,
   "metadata": {},
   "outputs": [],
   "source": [
    "assert index.is_trained"
   ]
  },
  {
   "cell_type": "code",
   "execution_count": null,
   "metadata": {},
   "outputs": [],
   "source": [
    "# add method is where you populate the index with the vectors you want to search \n",
    "index.add(xb)"
   ]
  },
  {
   "cell_type": "code",
   "execution_count": null,
   "metadata": {},
   "outputs": [],
   "source": [
    "D, I = index.search(xq, k) # 검색 결과의 거리와 인덱스를 반환\n",
    "print(I[-5:])"
   ]
  },
  {
   "cell_type": "code",
   "execution_count": null,
   "metadata": {},
   "outputs": [],
   "source": [
    "index.nprobe = 10 # 쿼리 시에 몇 개의 셀을 방문할지 결정\n",
    "D, I = index.search(xq, k)\n",
    "print(I[-5:])"
   ]
  },
  {
   "cell_type": "code",
   "execution_count": null,
   "metadata": {},
   "outputs": [],
   "source": []
  }
 ],
 "metadata": {
  "kernelspec": {
   "display_name": "Python 3.8.17 ('faiss-note')",
   "language": "python",
   "name": "python3"
  },
  "language_info": {
   "codemirror_mode": {
    "name": "ipython",
    "version": 3
   },
   "file_extension": ".py",
   "mimetype": "text/x-python",
   "name": "python",
   "nbconvert_exporter": "python",
   "pygments_lexer": "ipython3",
   "version": "3.8.17"
  },
  "orig_nbformat": 4,
  "vscode": {
   "interpreter": {
    "hash": "abdd69f396977b5acca5239545592dbbf682950c94ed8fda1439241dac83aa8a"
   }
  }
 },
 "nbformat": 4,
 "nbformat_minor": 2
}
